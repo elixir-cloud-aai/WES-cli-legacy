{
 "cells": [
  {
   "cell_type": "code",
   "execution_count": 122,
   "metadata": {},
   "outputs": [],
   "source": [
    "import urllib3\n",
    "urllib3.disable_warnings()\n",
    "\n",
    "\"\"\" Required to create a new Requests 'http_client' instance: \"\"\"\n",
    "from bravado.requests_client import RequestsClient\n",
    "\n",
    "\"\"\" Required to create a Bravado SwaggerClient instance: \"\"\"\n",
    "from bravado.client import SwaggerClient\n",
    "\n",
    "\"\"\" Create a new Requests client instance: \"\"\"\n",
    "http_client = RequestsClient()\n",
    "# http_client = FidoClient()\n",
    "\n",
    "http_client.session.verify = False\n",
    "\n",
    "# or\n",
    "# http_client.session.cert = os.environ.get('REQUESTS_CA_BUNDLE')"
   ]
  },
  {
   "cell_type": "code",
   "execution_count": 132,
   "metadata": {},
   "outputs": [],
   "source": [
    "url = \"http://localhost:7777/ga4gh/wes/v1/swagger.json\"\n",
    "\n",
    "client =  SwaggerClient.from_url(\n",
    "    url,\n",
    "    http_client=http_client,\n",
    "    config={'also_return_response': True,\n",
    "            'validate_responses': False}\n",
    ")"
   ]
  },
  {
   "cell_type": "code",
   "execution_count": 136,
   "metadata": {},
   "outputs": [],
   "source": [
    "l = client.WorkflowExecutionService.GetRunStatus(run_id=\"IXOH4X\")"
   ]
  },
  {
   "cell_type": "code",
   "execution_count": 138,
   "metadata": {},
   "outputs": [
    {
     "data": {
      "text/plain": [
       "<bravado.http_future.HttpFuture at 0x103b2ce48>"
      ]
     },
     "execution_count": 138,
     "metadata": {},
     "output_type": "execute_result"
    }
   ],
   "source": [
    "l"
   ]
  },
  {
   "cell_type": "code",
   "execution_count": null,
   "metadata": {},
   "outputs": [],
   "source": []
  },
  {
   "cell_type": "code",
   "execution_count": null,
   "metadata": {},
   "outputs": [],
   "source": []
  }
 ],
 "metadata": {
  "kernelspec": {
   "display_name": "Python 3",
   "language": "python",
   "name": "python3"
  },
  "language_info": {
   "codemirror_mode": {
    "name": "ipython",
    "version": 3
   },
   "file_extension": ".py",
   "mimetype": "text/x-python",
   "name": "python",
   "nbconvert_exporter": "python",
   "pygments_lexer": "ipython3",
   "version": "3.6.2"
  }
 },
 "nbformat": 4,
 "nbformat_minor": 2
}
